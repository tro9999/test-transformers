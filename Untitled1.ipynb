{
 "cells": [
  {
   "cell_type": "code",
   "execution_count": 1,
   "id": "06a39965-b0c7-46c2-85b1-81e05019e423",
   "metadata": {
    "tags": []
   },
   "outputs": [],
   "source": [
    "from text2sql.get_time_period_dates import get_time_period_dates\n",
    "from datetime import date"
   ]
  },
  {
   "cell_type": "code",
   "execution_count": 2,
   "id": "6e9abbef-9569-4cc9-9df0-71cb65344b7f",
   "metadata": {
    "tags": []
   },
   "outputs": [
    {
     "name": "stdout",
     "output_type": "stream",
     "text": [
      "yesterday: 2023-06-21\n",
      "today: 2023-06-22\n",
      "tomorrow: 2023-06-23\n"
     ]
    }
   ],
   "source": [
    "current_date = date(2023, 6, 22)  # Replace with your desired current date\n",
    "result = get_time_period_dates(current_date)\n",
    "for term, iso_date in result.items():\n",
    "    print(f'{term}: {iso_date}')\n",
    "#current_date.month"
   ]
  },
  {
   "cell_type": "code",
   "execution_count": null,
   "id": "134a9652-d7ce-4cb8-a037-a3f2a4419c4c",
   "metadata": {},
   "outputs": [],
   "source": []
  }
 ],
 "metadata": {
  "kernelspec": {
   "display_name": "default:Python",
   "language": "python",
   "name": "conda-env-default-py"
  },
  "language_info": {
   "codemirror_mode": {
    "name": "ipython",
    "version": 3
   },
   "file_extension": ".py",
   "mimetype": "text/x-python",
   "name": "python",
   "nbconvert_exporter": "python",
   "pygments_lexer": "ipython3",
   "version": "3.9.16"
  }
 },
 "nbformat": 4,
 "nbformat_minor": 5
}
