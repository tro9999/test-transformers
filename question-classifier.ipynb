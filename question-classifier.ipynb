{
 "cells": [
  {
   "cell_type": "code",
   "execution_count": 1,
   "id": "e67faa15-5c1a-41d2-bfa0-cd6380046144",
   "metadata": {},
   "outputs": [
    {
     "data": {
      "application/vnd.jupyter.widget-view+json": {
       "model_id": "e65f84df8cd64b50a76e3b8d79fd19c0",
       "version_major": 2,
       "version_minor": 0
      },
      "text/plain": [
       "VBox(children=(HTML(value='<center> <img\\nsrc=https://huggingface.co/front/assets/huggingface_logo-noborder.sv…"
      ]
     },
     "metadata": {},
     "output_type": "display_data"
    }
   ],
   "source": [
    "from huggingface_hub import notebook_login\n",
    "\n",
    "notebook_login()"
   ]
  },
  {
   "cell_type": "code",
   "execution_count": 47,
   "id": "aa05ea15-3b3a-49c0-9ed7-f4c29f79bee5",
   "metadata": {
    "tags": []
   },
   "outputs": [
    {
     "name": "stderr",
     "output_type": "stream",
     "text": [
      "WARNING:datasets.builder:Found cached dataset wikisql (/home/studio-lab-user/.cache/huggingface/datasets/wikisql/default/0.1.0/7037bfe6a42b1ca2b6ac3ccacba5253b1825d31379e9cc626fc79a620977252d)\n"
     ]
    },
    {
     "data": {
      "application/vnd.jupyter.widget-view+json": {
       "model_id": "00da9bf1c1234bdc91dc1b34950b7f4b",
       "version_major": 2,
       "version_minor": 0
      },
      "text/plain": [
       "  0%|          | 0/3 [00:00<?, ?it/s]"
      ]
     },
     "metadata": {},
     "output_type": "display_data"
    }
   ],
   "source": [
    "import datasets\n",
    "\n",
    "dataset = datasets.load_dataset(\"wikisql\")"
   ]
  },
  {
   "cell_type": "code",
   "execution_count": 63,
   "id": "e416636c-f9a9-4a06-a2df-2e7d42816e74",
   "metadata": {
    "tags": []
   },
   "outputs": [],
   "source": [
    "trainDataSet=dataset[\"train\"]\n",
    "testDataSet=dataset[\"test\"]"
   ]
  },
  {
   "cell_type": "code",
   "execution_count": 83,
   "id": "e277253f-1197-4ad6-81c0-e61f33665743",
   "metadata": {
    "tags": []
   },
   "outputs": [
    {
     "name": "stdout",
     "output_type": "stream",
     "text": [
      "The string 'banana' is found at index 53504.\n"
     ]
    }
   ],
   "source": [
    "train_questions = trainDataSet[\"question\"]\n",
    "train_categories= [ sql[\"agg\"] for sql in trainDataSet[\"sql\"]]\n",
    "\n",
    "train_cleaned_questions = [q[:-1] if q.endswith(\"?\") else q for q in train_questions]\n",
    "train_cleaned_questions = [q.replace(\"\\xa0\", \" \") for q in train_cleaned_questions]\n",
    "train_cleaned_questions = [q.strip() for q in train_cleaned_questions]\n",
    "\n",
    "test_questions = testDataSet[\"question\"]\n",
    "test_categories= [ sql[\"agg\"] for sql in testDataSet[\"sql\"]]\n",
    "\n",
    "test_cleaned_questions = [q[:-1] if q.endswith(\"?\") else q for q in test_questions]\n",
    "test_cleaned_questions = [q.replace(\"\\xa0\", \" \") for q in test_cleaned_questions]\n",
    "test_cleaned_questions = [q.strip() for q in test_cleaned_questions]\n",
    "\n",
    "\n",
    "s=\"What's the total number of picks for the player Matt Murton\"\n",
    "try:\n",
    "    index = train_cleaned_questions.index(s)\n",
    "    print(f\"The string 'banana' is found at index {index}.\")\n",
    "except ValueError:\n",
    "    print(\"The string 'banana' does not exist in the list.\")\n",
    "    "
   ]
  },
  {
   "cell_type": "code",
   "execution_count": 84,
   "id": "a0d1c297-dda8-495c-8c7a-c6b47cd475e7",
   "metadata": {
    "tags": []
   },
   "outputs": [
    {
     "data": {
      "text/plain": [
       "\"What's the total number of picks for the player Matt Murton\""
      ]
     },
     "execution_count": 84,
     "metadata": {},
     "output_type": "execute_result"
    }
   ],
   "source": [
    "train_cleaned_questions[53504]"
   ]
  },
  {
   "cell_type": "code",
   "execution_count": 65,
   "id": "ee7483b6-b11a-44c6-99e4-32b32838572d",
   "metadata": {
    "tags": []
   },
   "outputs": [],
   "source": [
    "from numpy import asarray\n",
    "from sklearn.model_selection import train_test_split\n",
    "from tensorflow.keras.models import Sequential\n",
    "from tensorflow.keras.layers import Dense, Dropout\n",
    "import tensorflow as tf"
   ]
  },
  {
   "cell_type": "code",
   "execution_count": 66,
   "id": "6616f113-d43d-498a-9167-226f19c1d54a",
   "metadata": {
    "tags": []
   },
   "outputs": [],
   "source": [
    "def get_keras_model():\n",
    "    \"\"\"Define the model.\"\"\"\n",
    "    model = Sequential()\n",
    "    model.add(Dense(128, input_shape=[512 ,], activation='relu'))\n",
    "    model.add(Dropout(0.1))\n",
    "    model.add(Dense(64 ,activation='relu' ,kernel_regularizer=tf.keras.regularizers.L1(0.01),\n",
    "                    activity_regularizer=tf.keras.regularizers.L2(0.01)))\n",
    "    model.add(Dense(6, activation='softmax'))\n",
    "\n",
    "    model.compile(loss = 'sparse_categorical_crossentropy', optimizer = 'adam', metrics = ['accuracy'])\n",
    "    model.summary()\n",
    "    return model"
   ]
  },
  {
   "cell_type": "code",
   "execution_count": 67,
   "id": "8c35f323-8eb0-4af5-8a22-2570aa76a9e0",
   "metadata": {
    "tags": []
   },
   "outputs": [],
   "source": [
    "#x_train, x_test, y_train ,y_test =train_test_split(cleaned_questions, categories, shuffle=False)\n",
    "\n"
   ]
  },
  {
   "cell_type": "code",
   "execution_count": 68,
   "id": "0f43d9b2-312a-4f3a-81b1-b40577fd6f5f",
   "metadata": {
    "tags": []
   },
   "outputs": [],
   "source": [
    "import tensorflow as tf\n",
    "import tensorflow_hub as hub\n",
    "\n",
    "embed = hub.load('https://tfhub.dev/google/universal-sentence-encoder/4')"
   ]
  },
  {
   "cell_type": "code",
   "execution_count": 69,
   "id": "ec2d9b4a-176e-4861-aaa7-19ffd4c08b7d",
   "metadata": {
    "tags": []
   },
   "outputs": [],
   "source": [
    "def get_embeddings(x):\n",
    "    embeddings = embed(x)\n",
    "    return asarray(embeddings)\n"
   ]
  },
  {
   "cell_type": "code",
   "execution_count": 11,
   "id": "3280c286-9187-495a-9dce-2fc03f679f47",
   "metadata": {
    "tags": []
   },
   "outputs": [],
   "source": [
    "#train_encodings = get_embeddings(x_train.to_list())\n",
    "#test_encodings = get_embeddings(x_test.tolist())"
   ]
  },
  {
   "cell_type": "code",
   "execution_count": 73,
   "id": "42139e82-509a-4afd-9c5d-e631ba7f83d5",
   "metadata": {
    "tags": []
   },
   "outputs": [],
   "source": [
    "#train_encodings = get_embeddings(x_train)\n",
    "#test_encodings = get_embeddings(x_test)\n",
    "train_encodings = get_embeddings(train_cleaned_questions)\n",
    "test_encodings = get_embeddings(test_cleaned_questions)\n"
   ]
  },
  {
   "cell_type": "code",
   "execution_count": 74,
   "id": "55b3cccb-63ad-4e2c-821b-caccc3358bb4",
   "metadata": {
    "tags": []
   },
   "outputs": [],
   "source": [
    "y_train = asarray(train_categories, dtype=\"float32\")\n",
    "y_test = asarray(test_categories, dtype=\"float32\")\n"
   ]
  },
  {
   "cell_type": "code",
   "execution_count": 75,
   "id": "ca6c327e-e570-482d-a491-272be85e3f42",
   "metadata": {
    "tags": []
   },
   "outputs": [
    {
     "name": "stdout",
     "output_type": "stream",
     "text": [
      "Model: \"sequential_2\"\n",
      "_________________________________________________________________\n",
      " Layer (type)                Output Shape              Param #   \n",
      "=================================================================\n",
      " dense_6 (Dense)             (None, 128)               65664     \n",
      "                                                                 \n",
      " dropout_2 (Dropout)         (None, 128)               0         \n",
      "                                                                 \n",
      " dense_7 (Dense)             (None, 64)                8256      \n",
      "                                                                 \n",
      " dense_8 (Dense)             (None, 6)                 390       \n",
      "                                                                 \n",
      "=================================================================\n",
      "Total params: 74,310\n",
      "Trainable params: 74,310\n",
      "Non-trainable params: 0\n",
      "_________________________________________________________________\n",
      "(56355, 512)\n"
     ]
    }
   ],
   "source": [
    "\n",
    "model = get_keras_model()\n",
    "print(train_encodings.shape)"
   ]
  },
  {
   "cell_type": "code",
   "execution_count": 76,
   "id": "f5c0abc8-80df-4881-ac86-8f492ed633e5",
   "metadata": {
    "tags": []
   },
   "outputs": [
    {
     "name": "stdout",
     "output_type": "stream",
     "text": [
      "Epoch 1/50\n",
      "1409/1409 [==============================] - 12s 7ms/step - loss: 1.2009 - accuracy: 0.7433 - val_loss: 0.8200 - val_accuracy: 0.7452\n",
      "Epoch 2/50\n",
      "1409/1409 [==============================] - 9s 7ms/step - loss: 0.7388 - accuracy: 0.7823 - val_loss: 0.7584 - val_accuracy: 0.7668\n",
      "Epoch 3/50\n",
      "1409/1409 [==============================] - 10s 7ms/step - loss: 0.6913 - accuracy: 0.7961 - val_loss: 0.7262 - val_accuracy: 0.7736\n",
      "Epoch 4/50\n",
      "1409/1409 [==============================] - 11s 8ms/step - loss: 0.6632 - accuracy: 0.8048 - val_loss: 0.7024 - val_accuracy: 0.7845\n",
      "Epoch 5/50\n",
      "1409/1409 [==============================] - 10s 7ms/step - loss: 0.6457 - accuracy: 0.8116 - val_loss: 0.6846 - val_accuracy: 0.7988\n",
      "Epoch 6/50\n",
      "1409/1409 [==============================] - 11s 8ms/step - loss: 0.6313 - accuracy: 0.8180 - val_loss: 0.6738 - val_accuracy: 0.8003\n",
      "Epoch 7/50\n",
      "1409/1409 [==============================] - 10s 7ms/step - loss: 0.6170 - accuracy: 0.8262 - val_loss: 0.6576 - val_accuracy: 0.8107\n",
      "Epoch 8/50\n",
      "1409/1409 [==============================] - 9s 6ms/step - loss: 0.6065 - accuracy: 0.8319 - val_loss: 0.6470 - val_accuracy: 0.8155\n",
      "Epoch 9/50\n",
      "1409/1409 [==============================] - 8s 6ms/step - loss: 0.5969 - accuracy: 0.8362 - val_loss: 0.6357 - val_accuracy: 0.8220\n",
      "Epoch 10/50\n",
      "1409/1409 [==============================] - 10s 7ms/step - loss: 0.5869 - accuracy: 0.8401 - val_loss: 0.6324 - val_accuracy: 0.8234\n",
      "Epoch 11/50\n",
      "1409/1409 [==============================] - 9s 6ms/step - loss: 0.5768 - accuracy: 0.8440 - val_loss: 0.6225 - val_accuracy: 0.8266\n",
      "Epoch 12/50\n",
      "1409/1409 [==============================] - 8s 6ms/step - loss: 0.5675 - accuracy: 0.8486 - val_loss: 0.6216 - val_accuracy: 0.8294\n",
      "Epoch 13/50\n",
      "1409/1409 [==============================] - 8s 6ms/step - loss: 0.5591 - accuracy: 0.8510 - val_loss: 0.6135 - val_accuracy: 0.8331\n",
      "Epoch 14/50\n",
      "1409/1409 [==============================] - 9s 6ms/step - loss: 0.5524 - accuracy: 0.8528 - val_loss: 0.6080 - val_accuracy: 0.8331\n",
      "Epoch 15/50\n",
      "1409/1409 [==============================] - 8s 6ms/step - loss: 0.5455 - accuracy: 0.8557 - val_loss: 0.6097 - val_accuracy: 0.8376\n",
      "Epoch 16/50\n",
      "1409/1409 [==============================] - 8s 6ms/step - loss: 0.5390 - accuracy: 0.8584 - val_loss: 0.5949 - val_accuracy: 0.8384\n",
      "Epoch 17/50\n",
      "1409/1409 [==============================] - 10s 7ms/step - loss: 0.5339 - accuracy: 0.8600 - val_loss: 0.5958 - val_accuracy: 0.8411\n",
      "Epoch 18/50\n",
      "1409/1409 [==============================] - 10s 7ms/step - loss: 0.5290 - accuracy: 0.8613 - val_loss: 0.5985 - val_accuracy: 0.8407\n",
      "Epoch 19/50\n",
      "1409/1409 [==============================] - 9s 6ms/step - loss: 0.5242 - accuracy: 0.8628 - val_loss: 0.6003 - val_accuracy: 0.8387\n",
      "Epoch 20/50\n",
      "1409/1409 [==============================] - 9s 6ms/step - loss: 0.5188 - accuracy: 0.8653 - val_loss: 0.5881 - val_accuracy: 0.8447\n",
      "Epoch 21/50\n",
      "1409/1409 [==============================] - 9s 6ms/step - loss: 0.5152 - accuracy: 0.8668 - val_loss: 0.5877 - val_accuracy: 0.8431\n",
      "Epoch 22/50\n",
      "1409/1409 [==============================] - 9s 6ms/step - loss: 0.5116 - accuracy: 0.8671 - val_loss: 0.5902 - val_accuracy: 0.8403\n",
      "Epoch 23/50\n",
      "1409/1409 [==============================] - 10s 7ms/step - loss: 0.5067 - accuracy: 0.8685 - val_loss: 0.5863 - val_accuracy: 0.8439\n",
      "Epoch 24/50\n",
      "1409/1409 [==============================] - 8s 6ms/step - loss: 0.5021 - accuracy: 0.8697 - val_loss: 0.5989 - val_accuracy: 0.8390\n",
      "Epoch 25/50\n",
      "1409/1409 [==============================] - 8s 6ms/step - loss: 0.5006 - accuracy: 0.8702 - val_loss: 0.5905 - val_accuracy: 0.8431\n",
      "Epoch 26/50\n",
      "1409/1409 [==============================] - 10s 7ms/step - loss: 0.4955 - accuracy: 0.8720 - val_loss: 0.5876 - val_accuracy: 0.8437\n",
      "Epoch 27/50\n",
      "1409/1409 [==============================] - 13s 9ms/step - loss: 0.4904 - accuracy: 0.8740 - val_loss: 0.5917 - val_accuracy: 0.8415\n",
      "Epoch 28/50\n",
      "1409/1409 [==============================] - 13s 9ms/step - loss: 0.4884 - accuracy: 0.8738 - val_loss: 0.5806 - val_accuracy: 0.8464\n",
      "Epoch 29/50\n",
      "1409/1409 [==============================] - 12s 8ms/step - loss: 0.4844 - accuracy: 0.8738 - val_loss: 0.5839 - val_accuracy: 0.8454\n",
      "Epoch 30/50\n",
      "1409/1409 [==============================] - 10s 7ms/step - loss: 0.4812 - accuracy: 0.8747 - val_loss: 0.5836 - val_accuracy: 0.8438\n",
      "Epoch 31/50\n",
      "1409/1409 [==============================] - 9s 6ms/step - loss: 0.4762 - accuracy: 0.8766 - val_loss: 0.5800 - val_accuracy: 0.8465\n",
      "Epoch 32/50\n",
      "1409/1409 [==============================] - 9s 6ms/step - loss: 0.4738 - accuracy: 0.8775 - val_loss: 0.5799 - val_accuracy: 0.8449\n",
      "Epoch 33/50\n",
      "1409/1409 [==============================] - 9s 6ms/step - loss: 0.4682 - accuracy: 0.8794 - val_loss: 0.5821 - val_accuracy: 0.8455\n",
      "Epoch 34/50\n",
      "1409/1409 [==============================] - 9s 7ms/step - loss: 0.4667 - accuracy: 0.8794 - val_loss: 0.5789 - val_accuracy: 0.8454\n",
      "Epoch 35/50\n",
      "1409/1409 [==============================] - 9s 6ms/step - loss: 0.4625 - accuracy: 0.8806 - val_loss: 0.5920 - val_accuracy: 0.8438\n",
      "Epoch 36/50\n",
      "1409/1409 [==============================] - 9s 6ms/step - loss: 0.4604 - accuracy: 0.8804 - val_loss: 0.5842 - val_accuracy: 0.8464\n",
      "Epoch 37/50\n",
      "1409/1409 [==============================] - 9s 6ms/step - loss: 0.4553 - accuracy: 0.8817 - val_loss: 0.5757 - val_accuracy: 0.8471\n",
      "Epoch 38/50\n",
      "1409/1409 [==============================] - 11s 8ms/step - loss: 0.4528 - accuracy: 0.8819 - val_loss: 0.5808 - val_accuracy: 0.8478\n",
      "Epoch 39/50\n",
      "1409/1409 [==============================] - 11s 7ms/step - loss: 0.4513 - accuracy: 0.8826 - val_loss: 0.5838 - val_accuracy: 0.8462\n",
      "Epoch 40/50\n",
      "1409/1409 [==============================] - 9s 7ms/step - loss: 0.4469 - accuracy: 0.8834 - val_loss: 0.5942 - val_accuracy: 0.8450\n",
      "Epoch 41/50\n",
      "1409/1409 [==============================] - 10s 7ms/step - loss: 0.4437 - accuracy: 0.8839 - val_loss: 0.5941 - val_accuracy: 0.8454\n",
      "Epoch 42/50\n",
      "1409/1409 [==============================] - 10s 7ms/step - loss: 0.4420 - accuracy: 0.8858 - val_loss: 0.5886 - val_accuracy: 0.8467\n",
      "Epoch 43/50\n",
      "1409/1409 [==============================] - 10s 7ms/step - loss: 0.4394 - accuracy: 0.8863 - val_loss: 0.5805 - val_accuracy: 0.8470\n",
      "Epoch 44/50\n",
      "1409/1409 [==============================] - 10s 7ms/step - loss: 0.4360 - accuracy: 0.8874 - val_loss: 0.6027 - val_accuracy: 0.8437\n",
      "Epoch 45/50\n",
      "1409/1409 [==============================] - 10s 7ms/step - loss: 0.4343 - accuracy: 0.8859 - val_loss: 0.6041 - val_accuracy: 0.8401\n",
      "Epoch 46/50\n",
      "1409/1409 [==============================] - 12s 9ms/step - loss: 0.4308 - accuracy: 0.8875 - val_loss: 0.6062 - val_accuracy: 0.8426\n",
      "Epoch 47/50\n",
      "1409/1409 [==============================] - 11s 8ms/step - loss: 0.4307 - accuracy: 0.8891 - val_loss: 0.6003 - val_accuracy: 0.8446\n",
      "Epoch 48/50\n",
      "1409/1409 [==============================] - 8s 5ms/step - loss: 0.4261 - accuracy: 0.8891 - val_loss: 0.5954 - val_accuracy: 0.8453\n",
      "Epoch 49/50\n",
      "1409/1409 [==============================] - 12s 8ms/step - loss: 0.4235 - accuracy: 0.8896 - val_loss: 0.5976 - val_accuracy: 0.8472\n",
      "Epoch 50/50\n",
      "1409/1409 [==============================] - 12s 8ms/step - loss: 0.4230 - accuracy: 0.8892 - val_loss: 0.5981 - val_accuracy: 0.8428\n"
     ]
    },
    {
     "data": {
      "text/plain": [
       "<keras.callbacks.History at 0x7f072a563250>"
      ]
     },
     "execution_count": 76,
     "metadata": {},
     "output_type": "execute_result"
    }
   ],
   "source": [
    "model.fit(train_encodings, y_train, epochs=50, validation_split=0.2)"
   ]
  },
  {
   "cell_type": "code",
   "execution_count": 77,
   "id": "c7510edc-5d88-4d38-954c-ace4b2417a5b",
   "metadata": {
    "tags": []
   },
   "outputs": [],
   "source": [
    "model.save(\"Question_Classifier.h5\")"
   ]
  },
  {
   "cell_type": "code",
   "execution_count": 78,
   "id": "adf93855-e50b-40bf-9fef-7fafedfc2119",
   "metadata": {
    "tags": []
   },
   "outputs": [
    {
     "name": "stdout",
     "output_type": "stream",
     "text": [
      "497/497 [==============================] - 2s 3ms/step - loss: 0.5519 - accuracy: 0.8593\n"
     ]
    }
   ],
   "source": [
    "# testing\n",
    "score, acc = model.evaluate(test_encodings, y_test)"
   ]
  },
  {
   "cell_type": "code",
   "execution_count": null,
   "id": "f49e7ba7-86c8-4d44-9919-4153c6977e83",
   "metadata": {},
   "outputs": [],
   "source": []
  }
 ],
 "metadata": {
  "kernelspec": {
   "display_name": "default:Python",
   "language": "python",
   "name": "conda-env-default-py"
  },
  "language_info": {
   "codemirror_mode": {
    "name": "ipython",
    "version": 3
   },
   "file_extension": ".py",
   "mimetype": "text/x-python",
   "name": "python",
   "nbconvert_exporter": "python",
   "pygments_lexer": "ipython3",
   "version": "3.9.16"
  }
 },
 "nbformat": 4,
 "nbformat_minor": 5
}
