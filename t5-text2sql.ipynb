{
 "cells": [
  {
   "cell_type": "code",
   "execution_count": 1,
   "id": "4708d652-f0d4-4220-a5bb-4d4fd1cfc7ae",
   "metadata": {
    "tags": []
   },
   "outputs": [
    {
     "name": "stderr",
     "output_type": "stream",
     "text": [
      "2023-06-14 04:47:47.443443: I tensorflow/core/platform/cpu_feature_guard.cc:182] This TensorFlow binary is optimized to use available CPU instructions in performance-critical operations.\n",
      "To enable the following instructions: AVX2 AVX512F FMA, in other operations, rebuild TensorFlow with the appropriate compiler flags.\n",
      "2023-06-14 04:47:48.358625: W tensorflow/compiler/tf2tensorrt/utils/py_utils.cc:38] TF-TRT Warning: Could not find TensorRT\n"
     ]
    }
   ],
   "source": [
    "import json\n",
    "import torch\n",
    "from torch.utils.data import Dataset, DataLoader\n",
    "from transformers import T5Tokenizer, T5ForConditionalGeneration\n",
    "\n",
    "from torch.optim import AdamW"
   ]
  },
  {
   "cell_type": "code",
   "execution_count": 2,
   "id": "8a0df86e-b565-4630-a7c0-7c24e9f84521",
   "metadata": {
    "tags": []
   },
   "outputs": [
    {
     "name": "stderr",
     "output_type": "stream",
     "text": [
      "/home/studio-lab-user/.conda/envs/default/lib/python3.9/site-packages/transformers/models/t5/tokenization_t5.py:163: FutureWarning: This tokenizer was incorrectly instantiated with a model max length of 512 which will be corrected in Transformers v5.\n",
      "For now, this behavior is kept to avoid breaking backwards compatibility when padding/encoding with `truncation is True`.\n",
      "- Be aware that you SHOULD NOT rely on t5-base automatically truncating your input to 512 when padding/encoding.\n",
      "- If you want to encode/pad to sequences longer than 512 you can either instantiate this tokenizer with `model_max_length` or pass `max_length` when encoding/padding.\n",
      "- To avoid this warning, please instantiate this tokenizer with `model_max_length` set to your preferred value.\n",
      "  warnings.warn(\n"
     ]
    }
   ],
   "source": [
    "# Step 3: Load and Preprocess the Data\n",
    "class SQLDataset(Dataset):\n",
    "    def __init__(self, data_path, tokenizer):\n",
    "        self.data = []\n",
    "        self.tokenizer = tokenizer\n",
    "\n",
    "        with open(data_path, 'r') as file:\n",
    "            raw_data = json.load(file)\n",
    "\n",
    "        for item in raw_data:\n",
    "            question = item['question']\n",
    "            answer = item['answer']\n",
    "            self.data.append((question, answer))\n",
    "\n",
    "    def __len__(self):\n",
    "        return len(self.data)\n",
    "\n",
    "    def __getitem__(self, index):\n",
    "        question, answer = self.data[index]\n",
    "        input_ids = self.tokenizer.encode(question, max_length=512, padding='max_length', truncation=True, return_tensors='pt')\n",
    "        target_ids = self.tokenizer.encode(answer, max_length=512, padding='max_length', truncation=True, return_tensors='pt')\n",
    "        return {\n",
    "            'input_ids': input_ids.squeeze(),\n",
    "            'attention_mask': input_ids.squeeze().bool(),\n",
    "            'target_ids': target_ids.squeeze(),\n",
    "            'target_attention_mask': target_ids.squeeze().bool()\n",
    "        }\n",
    "\n",
    "tokenizer = T5Tokenizer.from_pretrained('t5-base')\n",
    "train_dataset = SQLDataset('sqlData-train.json', tokenizer)\n",
    "test_dataset = SQLDataset('sqlData-test.json', tokenizer)\n"
   ]
  },
  {
   "cell_type": "code",
   "execution_count": 3,
   "id": "15d50888-c02e-40d6-83a2-05f7d138390a",
   "metadata": {
    "tags": []
   },
   "outputs": [],
   "source": [
    "# Step 4: Create Data Loaders\n",
    "batch_size = 2  # Adjust according to your system resources\n",
    "train_dataloader = DataLoader(train_dataset, batch_size=batch_size, shuffle=True)\n",
    "test_dataloader = DataLoader(test_dataset, batch_size=batch_size)\n"
   ]
  },
  {
   "cell_type": "code",
   "execution_count": 4,
   "id": "00c3d223-b079-4b33-bc88-0aff74087993",
   "metadata": {
    "tags": []
   },
   "outputs": [],
   "source": [
    "\n",
    "# Step 5: Define the Model\n",
    "model = T5ForConditionalGeneration.from_pretrained('t5-base')"
   ]
  },
  {
   "cell_type": "code",
   "execution_count": null,
   "id": "5eb6cfad-052d-40c3-a2f4-31573bcb0692",
   "metadata": {
    "tags": []
   },
   "outputs": [],
   "source": [
    "# Step 6: Train the Model\n",
    "device = torch.device('cuda' if torch.cuda.is_available() else 'cpu')\n",
    "model.to(device)\n",
    "\n",
    "optimizer = AdamW(model.parameters(), lr=1e-4)\n",
    "\n",
    "num_epochs = 3  # Adjust as needed\n",
    "total_steps = len(train_dataloader) * num_epochs\n",
    "\n",
    "for epoch in range(num_epochs):\n",
    "    model.train()\n",
    "    total_loss = 0\n",
    "\n",
    "    for batch in train_dataloader:\n",
    "        input_ids = batch['input_ids'].to(device)\n",
    "        attention_mask = batch['attention_mask'].to(device)\n",
    "        target_ids = batch['target_ids'].to(device)\n",
    "        target_attention_mask = batch['target_attention_mask'].to(device)\n",
    "\n",
    "        outputs = model(\n",
    "            input_ids=input_ids,\n",
    "            attention_mask=attention_mask,\n",
    "            decoder_input_ids=target_ids[:, :-1].contiguous(),\n",
    "            decoder_attention_mask=target_attention_mask[:, :-1].contiguous(),\n",
    "            labels=target_ids[:, 1:].contiguous()\n",
    "        )\n",
    "        loss = outputs.loss\n",
    "        total_loss += loss.item()\n",
    "\n",
    "        optimizer.zero_grad()\n",
    "        loss.backward()\n",
    "        optimizer.step()\n",
    "\n",
    "    avg_loss = total_loss / len(train_dataloader)\n",
    "    print(f'Epoch {epoch+1}/{num_epochs} - Average Loss: {avg_loss:.4f}')"
   ]
  },
  {
   "cell_type": "code",
   "execution_count": null,
   "id": "dd7d58a9-34f5-4b60-8bcb-e280f03811d2",
   "metadata": {},
   "outputs": [],
   "source": []
  }
 ],
 "metadata": {
  "kernelspec": {
   "display_name": "default:Python",
   "language": "python",
   "name": "conda-env-default-py"
  },
  "language_info": {
   "codemirror_mode": {
    "name": "ipython",
    "version": 3
   },
   "file_extension": ".py",
   "mimetype": "text/x-python",
   "name": "python",
   "nbconvert_exporter": "python",
   "pygments_lexer": "ipython3",
   "version": "3.9.16"
  }
 },
 "nbformat": 4,
 "nbformat_minor": 5
}
