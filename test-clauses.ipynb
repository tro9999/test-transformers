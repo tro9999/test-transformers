{
 "cells": [
  {
   "cell_type": "code",
   "execution_count": 1,
   "id": "c279ff75-6da6-4154-af0f-0727730935f4",
   "metadata": {
    "tags": []
   },
   "outputs": [
    {
     "name": "stderr",
     "output_type": "stream",
     "text": [
      "2023-06-16 02:21:45.139646: I tensorflow/tsl/cuda/cudart_stub.cc:28] Could not find cuda drivers on your machine, GPU will not be used.\n",
      "2023-06-16 02:21:45.190755: I tensorflow/tsl/cuda/cudart_stub.cc:28] Could not find cuda drivers on your machine, GPU will not be used.\n",
      "2023-06-16 02:21:45.192636: I tensorflow/core/platform/cpu_feature_guard.cc:182] This TensorFlow binary is optimized to use available CPU instructions in performance-critical operations.\n",
      "To enable the following instructions: AVX2 AVX512F FMA, in other operations, rebuild TensorFlow with the appropriate compiler flags.\n",
      "2023-06-16 02:21:46.300578: W tensorflow/compiler/tf2tensorrt/utils/py_utils.cc:38] TF-TRT Warning: Could not find TensorRT\n"
     ]
    }
   ],
   "source": [
    "from text2sql.clauses import Clause"
   ]
  },
  {
   "cell_type": "code",
   "execution_count": 2,
   "id": "3403d156-e483-4d91-aab8-eb535d4c62b5",
   "metadata": {
    "tags": []
   },
   "outputs": [
    {
     "name": "stderr",
     "output_type": "stream",
     "text": [
      "2023-06-16 02:21:52.870016: I tensorflow/core/common_runtime/executor.cc:1197] [/device:CPU:0] (DEBUG INFO) Executor start aborting (this does not indicate an error and you can ignore this message): INVALID_ARGUMENT: You must feed a value for placeholder tensor 'inputs' with dtype string\n",
      "\t [[{{node inputs}}]]\n"
     ]
    },
    {
     "name": "stdout",
     "output_type": "stream",
     "text": [
      "1/1 [==============================] - 0s 104ms/step\n"
     ]
    },
    {
     "data": {
      "text/plain": [
       "[array([[1.3756082e-02, 5.7213032e-01, 4.1120705e-01, 2.2784024e-03,\n",
       "         5.0519727e-04, 1.2298042e-04]], dtype=float32),\n",
       " array([1])]"
      ]
     },
     "execution_count": 2,
     "metadata": {},
     "output_type": "execute_result"
    }
   ],
   "source": [
    "clause=Clause()\n",
    "clause.testEmb([\"what was the most number cancer patients\"])"
   ]
  },
  {
   "cell_type": "code",
   "execution_count": 3,
   "id": "748a004e-5693-49bf-8847-639045e6b6d6",
   "metadata": {},
   "outputs": [
    {
     "name": "stdout",
     "output_type": "stream",
     "text": [
      "1/1 [==============================] - 0s 20ms/step\n",
      "SELECT {} FROM {} which are the activities in 2011 SELECT {} FROM {}\n",
      "1/1 [==============================] - 0s 21ms/step\n",
      "SELECT {} FROM {} find who died of stomach cancer SELECT {} FROM {}\n",
      "1/1 [==============================] - 0s 17ms/step\n",
      "SELECT MAX({}) FROM {} find the highest gdp value SELECT MAX({}) FROM {}\n",
      "1/1 [==============================] - 0s 23ms/step\n",
      "SELECT MAX({}) FROM {} what was the most number of cases reported SELECT MAX({}) FROM {}\n",
      "1/1 [==============================] - 0s 22ms/step\n",
      "SELECT MAX({}) FROM {} what was the maximum age of stomach cancer patients SELECT MIN({}) FROM {}\n",
      "1/1 [==============================] - 0s 21ms/step\n",
      "SELECT MIN({}) FROM {} find the lowest gdp value SELECT MIN({}) FROM {}\n",
      "1/1 [==============================] - 0s 20ms/step\n",
      "SELECT MIN({}) FROM {} what was the least number of cases reported SELECT MIN({}) FROM {}\n",
      "1/1 [==============================] - 0s 19ms/step\n",
      "SELECT MIN({}) FROM {} what was the minimum age of stomach cancer patients SELECT MIN({}) FROM {}\n",
      "1/1 [==============================] - 0s 19ms/step\n",
      "SELECT COUNT({}) FROM {} how many men died of stomach cancer in 2011 SELECT {} FROM {}\n",
      "1/1 [==============================] - 0s 22ms/step\n",
      "SELECT COUNT({}) FROM {} Find the number of activities in this data SELECT COUNT({}) FROM {}\n",
      "1/1 [==============================] - 0s 23ms/step\n",
      "SELECT COUNT({}) FROM {} Amount of people who died of cancer SELECT {} FROM {}\n",
      "1/1 [==============================] - 0s 19ms/step\n",
      "SELECT SUM({}) FROM {} sum of all cases SELECT SUM({}) FROM {}\n",
      "1/1 [==============================] - 0s 20ms/step\n",
      "SELECT SUM({}) FROM {} sum of death count SELECT SUM({}) FROM {}\n",
      "1/1 [==============================] - 0s 20ms/step\n",
      "SELECT AVG({}) FROM {} what is the average gdp last year SELECT {} FROM {}\n",
      "1/1 [==============================] - 0s 21ms/step\n",
      "SELECT AVG({}) FROM {} find the average number of reported cases SELECT AVG({}) FROM {}\n",
      "1/1 [==============================] - 0s 18ms/step\n",
      "SELECT AVG({}) FROM {} get me the average number of reported cases SELECT AVG({}) FROM {}\n"
     ]
    }
   ],
   "source": [
    "\n",
    "types={\"SELECT {} FROM {}\":[\"which are the activities in 2011\",\"find who died of stomach cancer\"],\n",
    "      \"SELECT MAX({}) FROM {}\":[\"find the highest gdp value\",\"what was the most number of cases reported\",\"what was the maximum age of stomach cancer patients\"],\n",
    "       \"SELECT MIN({}) FROM {}\":[\"find the lowest gdp value\",\"what was the least number of cases reported\",\"what was the minimum age of stomach cancer patients\"],\n",
    "       \"SELECT COUNT({}) FROM {}\":[\"how many men died of stomach cancer in 2011\",\"Find the number of activities in this data\",\"Amount of people who died of cancer\"],\n",
    "       \"SELECT SUM({}) FROM {}\":[\"sum of all cases\",\"sum of death count\"],\n",
    "       \"SELECT AVG({}) FROM {}\":[\"what is the average gdp last year\",\"find the average number of reported cases\",\"get me the average number of reported cases\"]}\n",
    "for key,typ in types.items():\n",
    "    for q in typ:\n",
    "        testThis=clause.adapt([q])\n",
    "        print(key,q,testThis)\n",
    "        #if testThis != key:\n",
    "        #    raise AssertionError"
   ]
  },
  {
   "cell_type": "code",
   "execution_count": null,
   "id": "de9d6e5e-1782-4fdb-b911-a05d8f636754",
   "metadata": {},
   "outputs": [],
   "source": []
  }
 ],
 "metadata": {
  "kernelspec": {
   "display_name": "default:Python",
   "language": "python",
   "name": "conda-env-default-py"
  },
  "language_info": {
   "codemirror_mode": {
    "name": "ipython",
    "version": 3
   },
   "file_extension": ".py",
   "mimetype": "text/x-python",
   "name": "python",
   "nbconvert_exporter": "python",
   "pygments_lexer": "ipython3",
   "version": "3.9.16"
  }
 },
 "nbformat": 4,
 "nbformat_minor": 5
}
