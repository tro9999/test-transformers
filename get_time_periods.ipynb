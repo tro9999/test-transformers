{
 "cells": [
  {
   "cell_type": "code",
   "execution_count": 1,
   "id": "06a39965-b0c7-46c2-85b1-81e05019e423",
   "metadata": {
    "tags": []
   },
   "outputs": [],
   "source": [
    "from text2sql.get_time_period_dates import get_time_period_dates\n",
    "from datetime import date"
   ]
  },
  {
   "cell_type": "code",
   "execution_count": 2,
   "id": "6e9abbef-9569-4cc9-9df0-71cb65344b7f",
   "metadata": {
    "tags": []
   },
   "outputs": [
    {
     "name": "stdout",
     "output_type": "stream",
     "text": [
      "yesterday: 2023-06-21\n",
      "today: 2023-06-22\n",
      "tomorrow: 2023-06-23\n",
      "last_night: 2023-06-21\n",
      "this morning: 2023-06-22\n",
      "last week: 2023-06-19 - 2023-06-18\n",
      "this week: 2023-06-19 - 2023-06-25\n",
      "next week: 2023-06-26 - 2023-07-02\n",
      "this month: 2023-06-01 - 2023-06-30\n",
      "last month: 2023-05-01 - 2023-05-31\n",
      "next_month: 2023-07-01 - 2023-07-31\n",
      "next year: 2024-01-01 - 2024-12-31\n",
      "this year: 2023-01-01 - 2023-12-31\n",
      "last year: 2022-01-01 - 2022-12-31\n",
      "last weekend: 2023-06-14 - 2023-06-18\n",
      "this weekend: 2023-06-24 - 2023-06-25\n",
      "next weekend: 2023-07-01 - 2023-07-02\n",
      "first quarter: 2023-01-01 - 2023-03-31\n",
      "second quarter: 2023-04-01 - 2023-06-30\n",
      "third quarter: 2023-07-01 - 2023-09-30\n",
      "fourth quarter: 2023-10-01 - 2023-12-31\n"
     ]
    }
   ],
   "source": [
    "current_date = date(2023, 6, 22)  # Replace with your desired current date\n",
    "result = get_time_period_dates(current_date)\n",
    "for term, iso_date in result.items():\n",
    "    print(f'{term}: {iso_date}')"
   ]
  },
  {
   "cell_type": "code",
   "execution_count": 1,
   "id": "134a9652-d7ce-4cb8-a037-a3f2a4419c4c",
   "metadata": {},
   "outputs": [
    {
     "name": "stdout",
     "output_type": "stream",
     "text": [
      "5\n"
     ]
    }
   ],
   "source": [
    "string = \"2023-10-01 - 2023-12-31\"\n",
    "count = string.count(\"-\")\n",
    "print(count)"
   ]
  },
  {
   "cell_type": "code",
   "execution_count": null,
   "id": "95fe6cc1-8f1c-41d9-aa48-805819d1fb34",
   "metadata": {},
   "outputs": [],
   "source": []
  }
 ],
 "metadata": {
  "kernelspec": {
   "display_name": "default:Python",
   "language": "python",
   "name": "conda-env-default-py"
  },
  "language_info": {
   "codemirror_mode": {
    "name": "ipython",
    "version": 3
   },
   "file_extension": ".py",
   "mimetype": "text/x-python",
   "name": "python",
   "nbconvert_exporter": "python",
   "pygments_lexer": "ipython3",
   "version": "3.9.16"
  }
 },
 "nbformat": 4,
 "nbformat_minor": 5
}
