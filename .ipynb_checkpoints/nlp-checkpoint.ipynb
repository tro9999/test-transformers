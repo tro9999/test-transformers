{
 "cells": [
  {
   "cell_type": "code",
   "execution_count": 1,
   "id": "c279ff75-6da6-4154-af0f-0727730935f4",
   "metadata": {
    "tags": []
   },
   "outputs": [
    {
     "name": "stderr",
     "output_type": "stream",
     "text": [
      "2023-06-16 02:57:58.872747: I tensorflow/tsl/cuda/cudart_stub.cc:28] Could not find cuda drivers on your machine, GPU will not be used.\n",
      "2023-06-16 02:57:59.006874: I tensorflow/tsl/cuda/cudart_stub.cc:28] Could not find cuda drivers on your machine, GPU will not be used.\n",
      "2023-06-16 02:57:59.008743: I tensorflow/core/platform/cpu_feature_guard.cc:182] This TensorFlow binary is optimized to use available CPU instructions in performance-critical operations.\n",
      "To enable the following instructions: AVX2 AVX512F FMA, in other operations, rebuild TensorFlow with the appropriate compiler flags.\n",
      "2023-06-16 02:58:00.760119: W tensorflow/compiler/tf2tensorrt/utils/py_utils.cc:38] TF-TRT Warning: Could not find TensorRT\n"
     ]
    }
   ],
   "source": [
    "from text2sql.clauses import Clause"
   ]
  },
  {
   "cell_type": "code",
   "execution_count": 3,
   "id": "3403d156-e483-4d91-aab8-eb535d4c62b5",
   "metadata": {
    "tags": []
   },
   "outputs": [],
   "source": [
    "class Nlp:\n",
    "    def __init__(self,data_dir,schema_dir,aws_s3, access_key_id, secret_access_key):\n",
    "        \"\"\"\n",
    "        self.data_dir=data_dir\n",
    "        self.schema_dir=schema_dir\n",
    "        self.aws_s3=aws_s3\n",
    "        if isinstance(self.schema_dir,dict):\n",
    "            self.schema=schema_dir\n",
    "        self.data_process=data_utils(data_dir, schema_dir, self.aws_s3, access_key_id, secret_access_key)\n",
    "        self.valuesfile =self.data_process.valuesfile\n",
    "        self.data_process.create_values()\n",
    "        with open(self.valuesfile, 'r') as f:\n",
    "            self.values = json.load(f)\n",
    "            \"\"\""
   ]
  },
  {
   "cell_type": "code",
   "execution_count": null,
   "id": "0fd96fce-71e2-4d97-84b9-3c9ffad525eb",
   "metadata": {},
   "outputs": [],
   "source": []
  }
 ],
 "metadata": {
  "kernelspec": {
   "display_name": "default:Python",
   "language": "python",
   "name": "conda-env-default-py"
  },
  "language_info": {
   "codemirror_mode": {
    "name": "ipython",
    "version": 3
   },
   "file_extension": ".py",
   "mimetype": "text/x-python",
   "name": "python",
   "nbconvert_exporter": "python",
   "pygments_lexer": "ipython3",
   "version": "3.9.16"
  }
 },
 "nbformat": 4,
 "nbformat_minor": 5
}
