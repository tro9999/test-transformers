{
 "cells": [
  {
   "cell_type": "code",
   "execution_count": 1,
   "id": "719c34a7-2bc0-4ede-8f3b-4affc6f6862b",
   "metadata": {
    "tags": []
   },
   "outputs": [
    {
     "name": "stderr",
     "output_type": "stream",
     "text": [
      "Found cached dataset wikisql (/home/studio-lab-user/.cache/huggingface/datasets/wikisql/default/0.1.0/7037bfe6a42b1ca2b6ac3ccacba5253b1825d31379e9cc626fc79a620977252d)\n"
     ]
    },
    {
     "data": {
      "application/vnd.jupyter.widget-view+json": {
       "model_id": "891cccce552e4b48a81b27781e8eaf9b",
       "version_major": 2,
       "version_minor": 0
      },
      "text/plain": [
       "  0%|          | 0/3 [00:00<?, ?it/s]"
      ]
     },
     "metadata": {},
     "output_type": "display_data"
    }
   ],
   "source": [
    "import datasets\n",
    "\n",
    "dataset = datasets.load_dataset(\"wikisql\")"
   ]
  },
  {
   "cell_type": "code",
   "execution_count": 8,
   "id": "9d96c307-af91-48d3-864e-4ab4904d4b6d",
   "metadata": {
    "tags": []
   },
   "outputs": [],
   "source": [
    "import json\n",
    "\n",
    "# Convert the dataset to a Python dictionary\n",
    "#dataset_dict = dataset.to_dict()\n",
    "\n",
    "# Save the dataset to a JSON file\n",
    "#json_file_path = \"wikisql_dataset.json\"\n",
    "#with open(json_file_path, \"w\") as json_file:\n",
    "#    json.dump(dataset_dict, json_file)\n",
    "\n",
    "# Convert the dataset to a list of dictionaries\n",
    "dataset_list = dataset[\"validation\"].to_dict()\n",
    "\n",
    "# Save the dataset to a JSON file\n",
    "json_file_path = \"validation_wikisql_dataset.json\"\n",
    "with open(json_file_path, \"w\") as json_file:\n",
    "    json.dump(dataset_list, json_file)  "
   ]
  },
  {
   "cell_type": "code",
   "execution_count": 7,
   "id": "f77611dd-7470-412f-8f95-06d0875816f4",
   "metadata": {
    "tags": []
   },
   "outputs": [
    {
     "data": {
      "text/plain": [
       "DatasetDict({\n",
       "    test: Dataset({\n",
       "        features: ['phase', 'question', 'table', 'sql'],\n",
       "        num_rows: 15878\n",
       "    })\n",
       "    validation: Dataset({\n",
       "        features: ['phase', 'question', 'table', 'sql'],\n",
       "        num_rows: 8421\n",
       "    })\n",
       "    train: Dataset({\n",
       "        features: ['phase', 'question', 'table', 'sql'],\n",
       "        num_rows: 56355\n",
       "    })\n",
       "})"
      ]
     },
     "execution_count": 7,
     "metadata": {},
     "output_type": "execute_result"
    }
   ],
   "source": [
    "dataset"
   ]
  },
  {
   "cell_type": "code",
   "execution_count": null,
   "id": "ca300deb-1689-4423-b081-417924d5832a",
   "metadata": {},
   "outputs": [],
   "source": []
  }
 ],
 "metadata": {
  "kernelspec": {
   "display_name": "default:Python",
   "language": "python",
   "name": "conda-env-default-py"
  },
  "language_info": {
   "codemirror_mode": {
    "name": "ipython",
    "version": 3
   },
   "file_extension": ".py",
   "mimetype": "text/x-python",
   "name": "python",
   "nbconvert_exporter": "python",
   "pygments_lexer": "ipython3",
   "version": "3.9.16"
  }
 },
 "nbformat": 4,
 "nbformat_minor": 5
}
